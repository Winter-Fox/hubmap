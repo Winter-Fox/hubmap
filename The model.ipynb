{
 "cells": [
  {
   "cell_type": "markdown",
   "metadata": {},
   "source": [
    "# 1. Imports"
   ]
  },
  {
   "cell_type": "code",
   "execution_count": 7,
   "metadata": {},
   "outputs": [],
   "source": [
    "import torch\n",
    "from torch.nn import Linear, LeakyReLU, MaxPool2d, Conv2d, BatchNorm2d, Dropout, Sequential, MSELoss, Module, AdaptiveAvgPool2d\n",
    "from torch.optim import Adam\n",
    "from torch.utils.data import DataLoader, TensorDataset, Dataset"
   ]
  },
  {
   "cell_type": "code",
   "execution_count": 8,
   "metadata": {},
   "outputs": [],
   "source": [
    "import pandas as pd\n",
    "import numpy as np\n",
    "import os"
   ]
  },
  {
   "cell_type": "markdown",
   "metadata": {},
   "source": [
    "# 2. CNN model"
   ]
  },
  {
   "cell_type": "code",
   "execution_count": 9,
   "metadata": {},
   "outputs": [],
   "source": [
    "class CNN(Module):\n",
    "    def __init__(self):\n",
    "        super(CNN, self).__init__()\n",
    "    \n",
    "        self.cnn_layers = Sequential(\n",
    "            Conv2d(3, 128, kernel_size = (3, 3), padding = 1, input_shape = (224, 224, 3)),\n",
    "            BatchNorm2d(128),\n",
    "            LeakyReLU(negative_slope = 0.2, inplace = True),\n",
    "            MaxPool2d(kernel_size = 2),\n",
    "            \n",
    "            Conv2d(128, 64, kernel_size = (3, 3), padding = 1),\n",
    "            BatchNorm2d(64),\n",
    "            LeakyReLU(negative_slope = 0.2, inplace = True),\n",
    "            MaxPool2d(kernel_size = 2),\n",
    "            \n",
    "            Conv2d(64, 32, kernel_size = (3, 3), padding = 1),\n",
    "            BatchNorm2d(32),\n",
    "            LeakyReLU(negative_slope = 0.2, inplace = True),\n",
    "            MaxPool2d(kernel_size = 2),\n",
    "            \n",
    "            Conv2d(32, 16, kernel_size = (5, 5), padding = 1, stride = 2),\n",
    "            BatchNorm2d(16),\n",
    "            LeakyReLU(negative_slope = 0.2, inplace = True),\n",
    "            MaxPool2d(kernel_size = 2, stride = 2),\n",
    "            \n",
    "            AdaptiveAvgPool2d((5, 5))\n",
    "        )\n",
    "        \n",
    "        self.linear_layers = Sequential(\n",
    "            Linear(25*16, 5),\n",
    "        )\n",
    "        \n",
    "    def forward(self, x):\n",
    "        x = self.cnn_layers(x)\n",
    "        x = x.view(x.size(0), -1)\n",
    "        x = self.linear_layers(x)\n",
    "        \n",
    "        return x"
   ]
  },
  {
   "cell_type": "markdown",
   "metadata": {},
   "source": [
    "# 3. Run the model"
   ]
  },
  {
   "cell_type": "code",
   "execution_count": 21,
   "metadata": {},
   "outputs": [],
   "source": [
    "with open('test.npy', 'rb') as f:\n",
    "    X = np.load(f)\n",
    "    Y = np.load(f)"
   ]
  },
  {
   "cell_type": "code",
   "execution_count": 22,
   "metadata": {},
   "outputs": [
    {
     "data": {
      "text/plain": [
       "(7048, 224, 224, 3)"
      ]
     },
     "execution_count": 22,
     "metadata": {},
     "output_type": "execute_result"
    }
   ],
   "source": [
    "X.shape"
   ]
  },
  {
   "cell_type": "code",
   "execution_count": 23,
   "metadata": {},
   "outputs": [
    {
     "data": {
      "text/plain": [
       "(7048, 224, 224)"
      ]
     },
     "execution_count": 23,
     "metadata": {},
     "output_type": "execute_result"
    }
   ],
   "source": [
    "Y.shape"
   ]
  },
  {
   "cell_type": "code",
   "execution_count": null,
   "metadata": {},
   "outputs": [],
   "source": []
  }
 ],
 "metadata": {
  "kernelspec": {
   "display_name": "Python 3",
   "language": "python",
   "name": "python3"
  },
  "language_info": {
   "codemirror_mode": {
    "name": "ipython",
    "version": 3
   },
   "file_extension": ".py",
   "mimetype": "text/x-python",
   "name": "python",
   "nbconvert_exporter": "python",
   "pygments_lexer": "ipython3",
   "version": "3.8.3"
  }
 },
 "nbformat": 4,
 "nbformat_minor": 4
}

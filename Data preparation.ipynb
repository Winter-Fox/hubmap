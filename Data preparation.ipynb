{
 "cells": [
  {
   "cell_type": "markdown",
   "metadata": {},
   "source": [
    "# 1. Data loading\n",
    "https://www.kaggle.com/ihelon/hubmap-exploratory-data-analysis"
   ]
  },
  {
   "cell_type": "code",
   "execution_count": 1,
   "metadata": {
    "_cell_guid": "79c7e3d0-c299-4dcb-8224-4455121ee9b0",
    "_uuid": "d629ff2d2480ee46fbb7e2d37f6b5fab8052498a"
   },
   "outputs": [],
   "source": [
    "import os, shutil\n",
    "import time\n",
    "\n",
    "import numpy as np\n",
    "import pandas as pd\n",
    "import matplotlib.pyplot as plt\n",
    "import seaborn as sn\n",
    "import cv2\n",
    "import tifffile\n",
    "from PIL import Image\n",
    "from sklearn.model_selection import train_test_split"
   ]
  },
  {
   "cell_type": "code",
   "execution_count": 15,
   "metadata": {},
   "outputs": [
    {
     "name": "stdout",
     "output_type": "stream",
     "text": [
      "['.ipynb_checkpoints', 'HuBMAP-20-dataset_information.csv', 'my_data', 'sample_submission.csv', 'test', 'train', 'train.csv']\n"
     ]
    }
   ],
   "source": [
    "# Global variables\n",
    "BASE_PATH = \"data/\"\n",
    "TRAIN_PATH = os.path.join(BASE_PATH, \"train\")\n",
    "WIDTH = 350\n",
    "HEIGHT = 350\n",
    "STRIDE = 200\n",
    "# Create pathes to folders with images and delete everything in there\n",
    "base_path_image_has_FTU = 'data/my_data/FTU/images/'    \n",
    "base_path_mask_has_FTU = 'data/my_data/FTU/masks/'\n",
    "base_path_no_FTU = 'data/my_data/no_FTU/'\n",
    "#Datbases for images\n",
    "images =[]\n",
    "masks = []\n",
    "\n",
    "print(os.listdir(BASE_PATH))"
   ]
  },
  {
   "cell_type": "markdown",
   "metadata": {},
   "source": [
    "### Utility functions"
   ]
  },
  {
   "cell_type": "code",
   "execution_count": 3,
   "metadata": {
    "jupyter": {
     "source_hidden": true
    }
   },
   "outputs": [],
   "source": [
    "# https://www.kaggle.com/paulorzp/rle-functions-run-lenght-encode-decode\n",
    "def rle2mask(mask_rle, shape):\n",
    "    '''\n",
    "    mask_rle: run-length as string formated (start length)\n",
    "    shape: (width,height) of array to return \n",
    "    Returns numpy array, 1 - mask, 0 - background\n",
    "\n",
    "    '''\n",
    "    s = mask_rle.split()\n",
    "    starts, lengths = [\n",
    "        np.asarray(x, dtype=int) for x in (s[0:][::2], s[1:][::2])\n",
    "    ]\n",
    "    starts -= 1\n",
    "    ends = starts + lengths\n",
    "    img = np.zeros(shape[0] * shape[1], dtype=np.uint8)\n",
    "    for lo, hi in zip(starts, ends):\n",
    "        img[lo : hi] = 1\n",
    "    return img.reshape(shape).T\n",
    "\n",
    "\n",
    "def read_image(image_id, scale=None, verbose=1):\n",
    "    image = tifffile.imread(\n",
    "        os.path.join(BASE_PATH, f\"train/{image_id}.tiff\")\n",
    "    )\n",
    "    if len(image.shape) == 5:\n",
    "        image = image.squeeze().transpose(1, 2, 0)\n",
    "    \n",
    "    mask = rle2mask(\n",
    "        df_train[df_train[\"id\"] == image_id][\"encoding\"].values[0], \n",
    "        (image.shape[1], image.shape[0])\n",
    "    )\n",
    "    \n",
    "    if verbose:\n",
    "        print(f\"[{image_id}] Image shape: {image.shape}\")\n",
    "        print(f\"[{image_id}] Mask shape: {mask.shape}\")\n",
    "    \n",
    "    if scale:\n",
    "        new_size = (image.shape[1] // scale, image.shape[0] // scale)\n",
    "        image = cv2.resize(image, new_size)\n",
    "        mask = cv2.resize(mask, new_size)\n",
    "        \n",
    "        if verbose:\n",
    "            print(f\"[{image_id}] Resized Image shape: {image.shape}\")\n",
    "            print(f\"[{image_id}] Resized Mask shape: {mask.shape}\")\n",
    "        \n",
    "    return image, mask\n",
    "\n",
    "\n",
    "def read_test_image(image_id, scale=None, verbose=1):\n",
    "    image = tifffile.imread(\n",
    "        os.path.join(BASE_PATH, f\"test/{image_id}.tiff\")\n",
    "    )\n",
    "    if len(image.shape) == 5:\n",
    "        image = image.squeeze().transpose(1, 2, 0)\n",
    "    \n",
    "    if verbose:\n",
    "        print(f\"[{image_id}] Image shape: {image.shape}\")\n",
    "    \n",
    "    if scale:\n",
    "        new_size = (image.shape[1] // scale, image.shape[0] // scale)\n",
    "        image = cv2.resize(image, new_size)\n",
    "        \n",
    "        if verbose:\n",
    "            print(f\"[{image_id}] Resized Image shape: {image.shape}\")\n",
    "        \n",
    "    return image\n",
    "\n",
    "def plot_image_and_mask(image, mask, image_id):\n",
    "    plt.figure(figsize=(16, 10))\n",
    "    \n",
    "    plt.subplot(1, 3, 1)\n",
    "    plt.imshow(image)\n",
    "    plt.title(f\"Image {image_id}\", fontsize=18)\n",
    "    \n",
    "    plt.subplot(1, 3, 2)\n",
    "    plt.imshow(image)\n",
    "    plt.imshow(mask, cmap=\"hot\", alpha=0.5)\n",
    "    plt.title(f\"Image {image_id} + mask\", fontsize=18)    \n",
    "    \n",
    "    plt.subplot(1, 3, 3)\n",
    "    plt.imshow(mask, cmap=\"hot\")\n",
    "    plt.title(f\"Mask\", fontsize=18)    \n",
    "    \n",
    "    plt.show()\n",
    "    \n",
    "    \n",
    "def plot_grid_image_with_mask(image, mask):\n",
    "    plt.figure(figsize=(16, 16))\n",
    "    n_cols = 4\n",
    "    n_rows = 4\n",
    "    col_start = 0\n",
    "    col_w = 2500\n",
    "    row_start = 0\n",
    "    row_w = 2500\n",
    "    for i in range(n_cols):\n",
    "        for j in range(n_rows):\n",
    "            plt.subplot(n_cols, n_rows, n_rows * i + j + 1)\n",
    "            sub_image = image[\n",
    "                col_start + i * col_w : col_start + (i + 1) * col_w, \n",
    "                row_start + j * row_w : row_start + (j + 1) * row_w, \n",
    "                :\n",
    "            ]\n",
    "            sub_mask = mask[\n",
    "                col_start + i * col_w : col_start + (i + 1) * col_w, \n",
    "                row_start + j * row_w : row_start + (j + 1) * row_w, \n",
    "            ]\n",
    "            plt.imshow(sub_image)\n",
    "            plt.imshow(sub_mask, cmap=\"hot\", alpha=0.5)\n",
    "            plt.axis(\"off\")\n",
    "    plt.show()\n",
    "    \n",
    "\n",
    "def plot_slice_image_and_mask(image, mask, start_h, end_h, start_w, end_w):\n",
    "    plt.figure(figsize=(16, 5))\n",
    "    \n",
    "    sub_image = image[start_h:end_h, start_w:end_w, :]\n",
    "    sub_mask = mask[start_h:end_h, start_w:end_w]\n",
    "    \n",
    "    plt.subplot(1, 3, 1)\n",
    "    plt.imshow(sub_image)\n",
    "    plt.axis(\"off\")\n",
    "    \n",
    "    plt.subplot(1, 3, 2)\n",
    "    plt.imshow(sub_image)\n",
    "    plt.imshow(sub_mask, cmap=\"hot\", alpha=0.5)\n",
    "    plt.axis(\"off\")\n",
    "    \n",
    "    plt.subplot(1, 3, 3)\n",
    "    plt.imshow(sub_mask, cmap=\"hot\")\n",
    "    plt.axis(\"off\")\n",
    "    \n",
    "    plt.show()"
   ]
  },
  {
   "cell_type": "code",
   "execution_count": 4,
   "metadata": {},
   "outputs": [
    {
     "data": {
      "text/plain": [
       "0    2f6ecfcdf\n",
       "1    aaa6a05cc\n",
       "2    cb2d976f4\n",
       "3    0486052bb\n",
       "4    e79de561c\n",
       "5    095bf7a1f\n",
       "6    54f2eec69\n",
       "7    1e2425f28\n",
       "Name: id, dtype: object"
      ]
     },
     "execution_count": 4,
     "metadata": {},
     "output_type": "execute_result"
    }
   ],
   "source": [
    "# Train df\n",
    "df_train = pd.read_csv(\n",
    "    os.path.join(BASE_PATH, \"train.csv\")\n",
    ")\n",
    "df_train['id']"
   ]
  },
  {
   "cell_type": "code",
   "execution_count": 5,
   "metadata": {},
   "outputs": [],
   "source": [
    "image_ids = np.array(df_train['id'])"
   ]
  },
  {
   "cell_type": "markdown",
   "metadata": {},
   "source": [
    "# 2. Saving images to files"
   ]
  },
  {
   "cell_type": "markdown",
   "metadata": {},
   "source": [
    "** Basic idea: **\n",
    " 1. Get 300x300 piece\n",
    " 2. Get from this piece this number (sum of second cahnnel of a piece): *np.sum(image[tsart_h:end_h, start_w:end_w, 1]/255)/100000*\n",
    " 3. If this number is higher than **0.2** and lower than **0.7** (this threshold can be modified) than this piece has part of a kidney. \n",
    " 4. If last point is True than sum over mask of this piece. If sum is more than **10** (this threshold can be modified) than save as FTU\n",
    "     else save as no_FTU."
   ]
  },
  {
   "cell_type": "code",
   "execution_count": 6,
   "metadata": {},
   "outputs": [],
   "source": [
    "'''\n",
    "    Deletes every file in the given folder.\n",
    "    It's neeeded to clear my_data folders during development\n",
    "'''\n",
    "def delete_all_in_folder(folder):\n",
    "    for filename in os.listdir(folder):\n",
    "        file_path = os.path.join(folder, filename)\n",
    "        try:\n",
    "            if os.path.isfile(file_path) or os.path.islink(file_path):\n",
    "                os.unlink(file_path)\n",
    "            elif os.path.isdir(file_path):\n",
    "                shutil.rmtree(file_path)\n",
    "        except Exception as e:\n",
    "            print('Failed to delete %s. Reason: %s' % (file_path, e))"
   ]
  },
  {
   "cell_type": "code",
   "execution_count": 7,
   "metadata": {},
   "outputs": [],
   "source": [
    "\"\"\"\n",
    "    Checks  wheter image has full-zero rows or cols\n",
    "    \n",
    "    INPUT:\n",
    "        image(np.array): original image\n",
    "        \n",
    "    OUTPUT:\n",
    "        True/False: wheter image has full-zero rows or cols\n",
    "\"\"\"\n",
    "def check_for_full_zero(image):\n",
    "    if ((image[0,:,:] == 0).all()) | ((image[:,0,:] == 0).all()) | ((image[image.shape[0]-1,:,:] == 0).all()) | ((image[:,image.shape[1]-1,:] == 0).all()):\n",
    "        return True\n",
    "    return False"
   ]
  },
  {
   "cell_type": "code",
   "execution_count": 8,
   "metadata": {},
   "outputs": [],
   "source": [
    "\"\"\"\n",
    "    Slices and saves to files image and mask into pieces with given size and stride\n",
    "    \n",
    "    INPUT:\n",
    "        image(np.array): full image of a kidney\n",
    "        mask(np.array): full mask of a kidney\n",
    "        stride(int): stride with which slices should be created (how big is a step between slices)\n",
    "        slice_width(int): width of a single slice\n",
    "        slice_height(int): height of a single slice\n",
    "\"\"\"\n",
    "def cut_and_save_image_and_mask_to_file(image, mask, slice_height=400, slice_width = 400, stride=200, save = False):\n",
    "    num_h = int((image.shape[0] - slice_height)/stride)     #number of slices horizontally\n",
    "    num_w = int((image.shape[1] - slice_width)/stride)      #number of slices vertically\n",
    "    \n",
    "    #Variables for databases\n",
    "    zeros = np.zeros((HEIGHT, WIDTH)) \n",
    "    \n",
    "    for i in range(0, num_h):\n",
    "        for j in range(0, num_w):\n",
    "            i_stride = i*stride    # i-th index for image slice with respect to stride\n",
    "            j_stride = j*stride    # j-th index for image slice with respect to stride\n",
    "            temp_image_slice = image[i_stride:i_stride+slice_height, j_stride:j_stride+slice_width, :]\n",
    "            \n",
    "            #Check temp_image_slice for a threshold\n",
    "            first_threshold = np.sum(temp_image_slice[:,:,1]/255)/100000\n",
    "            if ((first_threshold > 0.2) & (first_threshold < 0.7) & (not(check_for_full_zero(temp_image_slice)))):\n",
    "                                \n",
    "                has_FTU = False   #varieble to check wether slice has FTU or not\n",
    "                #Check second threshold\n",
    "                temp_mask_slice = mask[i_stride:i_stride+slice_height, j_stride:j_stride+slice_width]\n",
    "                second_threshold = np.sum(temp_mask_slice)\n",
    "                if (second_threshold > 50):\n",
    "                    has_FTU = True\n",
    "                    \n",
    "                #Save slice\n",
    "                if (has_FTU):\n",
    "                    #Adding image to database\n",
    "                    images.append(temp_image_slice)\n",
    "                    masks.append(temp_mask_slice)\n",
    "                    \n",
    "                    if (save):\n",
    "                        #Saving image to file\n",
    "                        global index_FTU\n",
    "                        temp_mask_slice = temp_mask_slice*255    #converting mask image from [0..1] encoding to [0..255]\n",
    "                        slice_name = base_path_image_has_FTU + 'image_has_FTU_' + str(index_FTU) + \".jpeg\"   \n",
    "                        maks_name = base_path_mask_has_FTU + 'mask_has_FTU_' + str(index_FTU) + \".jpeg\" \n",
    "                        Image.fromarray(temp_image_slice).save(slice_name)\n",
    "                        Image.fromarray(temp_mask_slice).save(maks_name)\n",
    "                        index_FTU+=1\n",
    "                else:\n",
    "                    if (save):\n",
    "                        #Saving image to file\n",
    "                        global index_no_FTU\n",
    "                        slice_name = base_path_no_FTU + 'image_no_FTU_' + str(index_no_FTU) + \".jpeg\"   \n",
    "                        temp_mask_slice = temp_mask_slice*255    #converting mask image from [0..1] encoding to [0..255]\n",
    "                        Image.fromarray(temp_image_slice).save(slice_name)\n",
    "                        index_no_FTU+=1\n",
    "                    \n",
    "                    #Adding image to database\n",
    "                    images.append(temp_image_slice)\n",
    "                    masks.append(zeros)"
   ]
  },
  {
   "cell_type": "code",
   "execution_count": 13,
   "metadata": {},
   "outputs": [],
   "source": [
    "'''\n",
    "    Uses read_image and cut_and_save_image_and_mask_to_file functions to save images to files\n",
    "'''\n",
    "def get_images_cut_and_saved(slice_height=300, slice_width=300, stride=100, save = False):\n",
    "    #If save is called than clean the saving directories\n",
    "    if (save):\n",
    "        delete_all_in_folder(base_path_image_has_FTU)\n",
    "        delete_all_in_folder(base_path_mask_has_FTU)\n",
    "        delete_all_in_folder(base_path_no_FTU)\n",
    "    for image_id in image_ids:\n",
    "        print(f'Working with image {image_id}.')\n",
    "        image, mask = read_image(image_id)\n",
    "        start_time_for_one_image = time.time()\n",
    "        cut_and_save_image_and_mask_to_file(image, mask, slice_height, slice_width, stride, save = save)\n",
    "        # Outputting how long it took to cut and save particular image\n",
    "        print(f\"Time taken to cut and save image {image_id}: {round((time.time() - start_time_for_one_image))}s\" )\n",
    "        print()"
   ]
  },
  {
   "cell_type": "code",
   "execution_count": 16,
   "metadata": {},
   "outputs": [
    {
     "name": "stdout",
     "output_type": "stream",
     "text": [
      "Working with image 2f6ecfcdf.\n",
      "[2f6ecfcdf] Image shape: (31278, 25794, 3)\n",
      "[2f6ecfcdf] Mask shape: (31278, 25794)\n",
      "Time taken to cut and save image 2f6ecfcdf: 49s\n",
      "\n",
      "Working with image aaa6a05cc.\n",
      "[aaa6a05cc] Image shape: (18484, 13013, 3)\n",
      "[aaa6a05cc] Mask shape: (18484, 13013)\n",
      "Time taken to cut and save image aaa6a05cc: 19s\n",
      "\n",
      "Working with image cb2d976f4.\n",
      "[cb2d976f4] Image shape: (34940, 49548, 3)\n",
      "[cb2d976f4] Mask shape: (34940, 49548)\n",
      "Time taken to cut and save image cb2d976f4: 119s\n",
      "\n",
      "Working with image 0486052bb.\n",
      "[0486052bb] Image shape: (25784, 34937, 3)\n",
      "[0486052bb] Mask shape: (25784, 34937)\n",
      "Time taken to cut and save image 0486052bb: 65s\n",
      "\n",
      "Working with image e79de561c.\n",
      "[e79de561c] Image shape: (16180, 27020, 3)\n",
      "[e79de561c] Mask shape: (16180, 27020)\n",
      "Time taken to cut and save image e79de561c: 54s\n",
      "\n",
      "Working with image 095bf7a1f.\n",
      "[095bf7a1f] Image shape: (38160, 39000, 3)\n",
      "[095bf7a1f] Mask shape: (38160, 39000)\n",
      "Time taken to cut and save image 095bf7a1f: 118s\n",
      "\n",
      "Working with image 54f2eec69.\n",
      "[54f2eec69] Image shape: (30440, 22240, 3)\n",
      "[54f2eec69] Mask shape: (30440, 22240)\n",
      "Time taken to cut and save image 54f2eec69: 51s\n",
      "\n",
      "Working with image 1e2425f28.\n",
      "[1e2425f28] Image shape: (26780, 32220, 3)\n",
      "[1e2425f28] Mask shape: (26780, 32220)\n",
      "Time taken to cut and save image 1e2425f28: 96s\n",
      "\n"
     ]
    }
   ],
   "source": [
    "# Indexes of images in folders\n",
    "index_no_FTU = 0\n",
    "index_FTU = 0\n",
    "\n",
    "get_images_cut_and_saved(WIDTH, HEIGHT, STRIDE, True)"
   ]
  },
  {
   "cell_type": "code",
   "execution_count": 17,
   "metadata": {},
   "outputs": [
    {
     "data": {
      "text/plain": [
       "73191"
      ]
     },
     "execution_count": 17,
     "metadata": {},
     "output_type": "execute_result"
    }
   ],
   "source": [
    "len(images)"
   ]
  },
  {
   "cell_type": "code",
   "execution_count": 18,
   "metadata": {},
   "outputs": [
    {
     "ename": "MemoryError",
     "evalue": "Unable to allocate 25.1 GiB for an array with shape (73191, 350, 350, 3) and data type uint8",
     "output_type": "error",
     "traceback": [
      "\u001b[1;31m---------------------------------------------------------------------------\u001b[0m",
      "\u001b[1;31mMemoryError\u001b[0m                               Traceback (most recent call last)",
      "\u001b[1;32m<ipython-input-18-5b61592df0ec>\u001b[0m in \u001b[0;36m<module>\u001b[1;34m\u001b[0m\n\u001b[0;32m      1\u001b[0m \u001b[1;31m#Save a new database\u001b[0m\u001b[1;33m\u001b[0m\u001b[1;33m\u001b[0m\u001b[1;33m\u001b[0m\u001b[0m\n\u001b[1;32m----> 2\u001b[1;33m \u001b[0mimages\u001b[0m \u001b[1;33m=\u001b[0m \u001b[0mnp\u001b[0m\u001b[1;33m.\u001b[0m\u001b[0marray\u001b[0m\u001b[1;33m(\u001b[0m\u001b[0mimages\u001b[0m\u001b[1;33m)\u001b[0m\u001b[1;33m\u001b[0m\u001b[1;33m\u001b[0m\u001b[0m\n\u001b[0m\u001b[0;32m      3\u001b[0m \u001b[0mmasks\u001b[0m \u001b[1;33m=\u001b[0m \u001b[0mnp\u001b[0m\u001b[1;33m.\u001b[0m\u001b[0marray\u001b[0m\u001b[1;33m(\u001b[0m\u001b[0mmasks\u001b[0m\u001b[1;33m)\u001b[0m\u001b[1;33m\u001b[0m\u001b[1;33m\u001b[0m\u001b[0m\n\u001b[0;32m      4\u001b[0m \u001b[1;32mwith\u001b[0m \u001b[0mopen\u001b[0m\u001b[1;33m(\u001b[0m\u001b[1;34m'X.npy'\u001b[0m\u001b[1;33m,\u001b[0m \u001b[1;34m'wb'\u001b[0m\u001b[1;33m)\u001b[0m \u001b[1;32mas\u001b[0m \u001b[0mf\u001b[0m\u001b[1;33m:\u001b[0m\u001b[1;33m\u001b[0m\u001b[1;33m\u001b[0m\u001b[0m\n\u001b[0;32m      5\u001b[0m     \u001b[0mnp\u001b[0m\u001b[1;33m.\u001b[0m\u001b[0msave\u001b[0m\u001b[1;33m(\u001b[0m\u001b[0mf\u001b[0m\u001b[1;33m,\u001b[0m \u001b[0mimages\u001b[0m\u001b[1;33m)\u001b[0m\u001b[1;33m\u001b[0m\u001b[1;33m\u001b[0m\u001b[0m\n",
      "\u001b[1;31mMemoryError\u001b[0m: Unable to allocate 25.1 GiB for an array with shape (73191, 350, 350, 3) and data type uint8"
     ]
    }
   ],
   "source": [
    "#Save a new database\n",
    "images = np.array(images)\n",
    "masks = np.array(masks)\n",
    "with open('X.npy', 'wb') as f:\n",
    "    np.save(f, images)\n",
    "with open('Y.npy', 'wb') as q:\n",
    "    np.save(q, masks)"
   ]
  },
  {
   "cell_type": "code",
   "execution_count": null,
   "metadata": {},
   "outputs": [],
   "source": [
    "index_FTU"
   ]
  },
  {
   "cell_type": "code",
   "execution_count": null,
   "metadata": {},
   "outputs": [],
   "source": []
  }
 ],
 "metadata": {
  "kernelspec": {
   "display_name": "Python 3",
   "language": "python",
   "name": "python3"
  },
  "language_info": {
   "codemirror_mode": {
    "name": "ipython",
    "version": 3
   },
   "file_extension": ".py",
   "mimetype": "text/x-python",
   "name": "python",
   "nbconvert_exporter": "python",
   "pygments_lexer": "ipython3",
   "version": "3.8.3"
  }
 },
 "nbformat": 4,
 "nbformat_minor": 4
}
